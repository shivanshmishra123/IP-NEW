{
 "cells": [
  {
   "cell_type": "markdown",
   "id": "84614da8",
   "metadata": {},
   "source": [
    "# Histograms\n",
    "\n",
    "Data has to be sorted into bins. Height of each column is then proportional to the number of datapoints its bin contains. \n",
    "\n",
    "If we do not specify bins are the interval you want to divide al of your data into. such that it can be displayed as bars on a histograms"
   ]
  },
  {
   "cell_type": "code",
   "execution_count": 4,
   "id": "9d3fbc7a",
   "metadata": {},
   "outputs": [
    {
     "data": {
      "text/html": [
       "<div>\n",
       "<style scoped>\n",
       "    .dataframe tbody tr th:only-of-type {\n",
       "        vertical-align: middle;\n",
       "    }\n",
       "\n",
       "    .dataframe tbody tr th {\n",
       "        vertical-align: top;\n",
       "    }\n",
       "\n",
       "    .dataframe thead th {\n",
       "        text-align: right;\n",
       "    }\n",
       "</style>\n",
       "<table border=\"1\" class=\"dataframe\">\n",
       "  <thead>\n",
       "    <tr style=\"text-align: right;\">\n",
       "      <th></th>\n",
       "      <th>Name</th>\n",
       "      <th>Height</th>\n",
       "      <th>Weight</th>\n",
       "    </tr>\n",
       "  </thead>\n",
       "  <tbody>\n",
       "    <tr>\n",
       "      <th>0</th>\n",
       "      <td>Arnav</td>\n",
       "      <td>60</td>\n",
       "      <td>47</td>\n",
       "    </tr>\n",
       "    <tr>\n",
       "      <th>1</th>\n",
       "      <td>Sheela</td>\n",
       "      <td>61</td>\n",
       "      <td>89</td>\n",
       "    </tr>\n",
       "    <tr>\n",
       "      <th>2</th>\n",
       "      <td>Azhar</td>\n",
       "      <td>63</td>\n",
       "      <td>52</td>\n",
       "    </tr>\n",
       "    <tr>\n",
       "      <th>3</th>\n",
       "      <td>Bincy</td>\n",
       "      <td>65</td>\n",
       "      <td>58</td>\n",
       "    </tr>\n",
       "    <tr>\n",
       "      <th>4</th>\n",
       "      <td>Yash</td>\n",
       "      <td>61</td>\n",
       "      <td>50</td>\n",
       "    </tr>\n",
       "    <tr>\n",
       "      <th>5</th>\n",
       "      <td>Nazar</td>\n",
       "      <td>60</td>\n",
       "      <td>47</td>\n",
       "    </tr>\n",
       "  </tbody>\n",
       "</table>\n",
       "</div>"
      ],
      "text/plain": [
       "     Name  Height  Weight\n",
       "0   Arnav      60      47\n",
       "1  Sheela      61      89\n",
       "2   Azhar      63      52\n",
       "3   Bincy      65      58\n",
       "4    Yash      61      50\n",
       "5   Nazar      60      47"
      ]
     },
     "execution_count": 4,
     "metadata": {},
     "output_type": "execute_result"
    }
   ],
   "source": [
    "import pandas as pd\n",
    "import matplotlib.pyplot as plt\n",
    "data={'Name':[\"Arnav\",\"Sheela\",\"Azhar\",\"Bincy\",\"Yash\",\"Nazar\"],\"Height\":[60,61,63,65,61,60],\"Weight\":[47,89,52,58,50,47]}\n",
    "df = pd.DataFrame(data)\n",
    "df\n"
   ]
  },
  {
   "cell_type": "code",
   "execution_count": 10,
   "id": "6a133931",
   "metadata": {},
   "outputs": [
    {
     "data": {
      "image/png": "[encoded data removed]",
      "text/plain": [
       "<Figure size 432x288 with 1 Axes>"
      ]
     },
     "metadata": {
      "needs_background": "light"
     },
     "output_type": "display_data"
    }
   ],
   "source": [
    "df.plot(kind='hist')\n",
    "plt.show()"
   ]
  },
  {
   "cell_type": "code",
   "execution_count": 10,
   "id": "f15967ff",
   "metadata": {},
   "outputs": [
    {
     "data": {
      "image/png": "[encoded data removed]",
      "text/plain": [
       "<Figure size 432x288 with 1 Axes>"
      ]
     },
     "metadata": {
      "needs_background": "light"
     },
     "output_type": "display_data"
    }
   ],
   "source": [
    "import pandas as pd\n",
    "import matplotlib.pyplot as plt\n",
    "data={'Name':[\"Arnav\",\"Sheela\",\"Azhar\",\"Bincy\",\"Yash\",\"Nazar\"],\"Height\":[60,61,63,65,61,60],\"Weight\":[47,89,52,58,50,47]}\n",
    "df = pd.DataFrame(data)\n",
    "df.plot(kind='hist',histtype=\"step\")\n",
    "plt.show()"
   ]
  },
  {
   "cell_type": "code",
   "execution_count": 11,
   "id": "a2f81ede",
   "metadata": {},
   "outputs": [
    {
     "data": {
      "text/plain": [
       "<Axes: xlabel='Frequency'>"
      ]
     },
     "execution_count": 11,
     "metadata": {},
     "output_type": "execute_result"
    },
    {
     "data": {
      "image/png": "[encoded data removed]",
      "text/plain": [
       "<Figure size 432x288 with 1 Axes>"
      ]
     },
     "metadata": {
      "needs_background": "light"
     },
     "output_type": "display_data"
    }
   ],
   "source": [
    "df.plot(kind=\"hist\",bins=20,orientation=\"horizontal\")"
   ]
  },
  {
   "cell_type": "code",
   "execution_count": 5,
   "id": "eb6547cf",
   "metadata": {},
   "outputs": [
    {
     "data": {
      "text/plain": [
       "<Axes: ylabel='Frequency'>"
      ]
     },
     "execution_count": 5,
     "metadata": {},
     "output_type": "execute_result"
    },
    {
     "data": {
      "image/png": "[encoded data removed]",
      "text/plain": [
       "<Figure size 432x288 with 1 Axes>"
      ]
     },
     "metadata": {
      "needs_background": "light"
     },
     "output_type": "display_data"
    }
   ],
   "source": [
    "df.plot(kind=\"hist\",bins=[18,19,20,21,22])"
   ]
  },
  {
   "cell_type": "markdown",
   "id": "b48060c7",
   "metadata": {},
   "source": [
    "# Customisations\n",
    "\n",
    "fill takes boolean values, default is true. Hatch used to fill histo with a pattern (-,+,x,\\\\,*,o,O,\".\")"
   ]
  },
  {
   "cell_type": "code",
   "execution_count": 10,
   "id": "6528e11e",
   "metadata": {},
   "outputs": [
    {
     "data": {
      "image/png": "[encoded data removed]",
      "text/plain": [
       "<Figure size 432x288 with 1 Axes>"
      ]
     },
     "metadata": {
      "needs_background": "light"
     },
     "output_type": "display_data"
    }
   ],
   "source": [
    "import pandas as pd\n",
    "import matplotlib.pyplot as plt\n",
    "data={'Name':[\"Arnav\",\"Sheela\",\"Azhar\",\"Bincy\",\"Yash\",\"Nazar\"],\"Height\":[60,61,63,65,61,60],\"Weight\":[47,89,52,58,50,47]}\n",
    "df = pd.DataFrame(data)\n",
    "df.plot(kind='hist',hatch=\"--\")\n",
    "plt.show()"
   ]
  },
  {
   "cell_type": "code",
   "execution_count": 11,
   "id": "507ec963",
   "metadata": {},
   "outputs": [
    {
     "data": {
      "image/png": "[encoded data removed]",
      "text/plain": [
       "<Figure size 432x288 with 1 Axes>"
      ]
     },
     "metadata": {
      "needs_background": "light"
     },
     "output_type": "display_data"
    }
   ],
   "source": [
    "import pandas as pd\n",
    "import matplotlib.pyplot as plt\n",
    "data={'Name':[\"Arnav\",\"Sheela\",\"Azhar\",\"Bincy\",\"Yash\",\"Nazar\"],\"Height\":[60,61,63,65,61,60],\"Weight\":[47,89,52,58,50,47]}\n",
    "df = pd.DataFrame(data)\n",
    "df.plot(kind='hist',hatch='||',fill=False)\n",
    "plt.show()"
   ]
  },
  {
   "cell_type": "markdown",
   "id": "e54ff66c",
   "metadata": {},
   "source": [
    "# Open Data\n",
    "Data is free for use of download and analysis open to the public. Ensure transparency,accesibility  and innovation.(data.gov.in) very large of Govt of India."
   ]
  }
 ],
 "metadata": {
  "kernelspec": {
   "display_name": "Python 3 (ipykernel)",
   "language": "python",
   "name": "python3"
  },
  "language_info": {
   "codemirror_mode": {
    "name": "ipython",
    "version": 3
   },
   "file_extension": ".py",
   "mimetype": "text/x-python",
   "name": "python",
   "nbconvert_exporter": "python",
   "pygments_lexer": "ipython3",
   "version": "3.10.5"
  }
 },
 "nbformat": 4,
 "nbformat_minor": 5
}
