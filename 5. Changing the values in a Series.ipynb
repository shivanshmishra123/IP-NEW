{
 "cells": [
  {
   "cell_type": "markdown",
   "id": "5106ec5d",
   "metadata": {},
   "source": [
    "# Index Based"
   ]
  },
  {
   "cell_type": "code",
   "execution_count": 1,
   "id": "face3422",
   "metadata": {},
   "outputs": [],
   "source": [
    "import pandas as pd\n",
    "animal=pd.Series([\"Lion\",\"Bear\",\"Elephant\",\"Tiger\",\"Wolf\"],index=[\"L\",\"B\",\"E\",\"T\",\"W\"])"
   ]
  },
  {
   "cell_type": "code",
   "execution_count": 2,
   "id": "27e390df",
   "metadata": {},
   "outputs": [
    {
     "data": {
      "text/plain": [
       "L        Lion\n",
       "B         Dog\n",
       "E    Elephant\n",
       "T       Tiger\n",
       "W        Wolf\n",
       "dtype: object"
      ]
     },
     "execution_count": 2,
     "metadata": {},
     "output_type": "execute_result"
    }
   ],
   "source": [
    "animal[1]=\"Dog\"\n",
    "animal"
   ]
  },
  {
   "cell_type": "code",
   "execution_count": 3,
   "id": "0762be94",
   "metadata": {},
   "outputs": [
    {
     "data": {
      "text/plain": [
       "L        Lion\n",
       "B        Bear\n",
       "E    Elephant\n",
       "T       Tiger\n",
       "W        Wolf\n",
       "dtype: object"
      ]
     },
     "execution_count": 3,
     "metadata": {},
     "output_type": "execute_result"
    }
   ],
   "source": [
    "animal[\"B\"]=\"Bear\"\n",
    "animal"
   ]
  },
  {
   "cell_type": "code",
   "execution_count": 4,
   "id": "1c028d0a",
   "metadata": {},
   "outputs": [
    {
     "data": {
      "text/plain": [
       "L        Lion\n",
       "B        Bear\n",
       "E    Elephant\n",
       "T       Tiger\n",
       "W         Dog\n",
       "dtype: object"
      ]
     },
     "execution_count": 4,
     "metadata": {},
     "output_type": "execute_result"
    }
   ],
   "source": [
    "animal[-1]=\"Dog\"\n",
    "animal"
   ]
  },
  {
   "cell_type": "markdown",
   "id": "55e36f75",
   "metadata": {},
   "source": [
    "# Slicing Based"
   ]
  },
  {
   "cell_type": "code",
   "execution_count": 6,
   "id": "3d0738b2",
   "metadata": {},
   "outputs": [
    {
     "data": {
      "text/plain": [
       "L      Lion\n",
       "B      Bear\n",
       "E       Cow\n",
       "T    Donkey\n",
       "W       Dog\n",
       "dtype: object"
      ]
     },
     "execution_count": 6,
     "metadata": {},
     "output_type": "execute_result"
    }
   ],
   "source": [
    "animal[2:4]=[\"Cow\",\"Donkey\"]\n",
    "animal"
   ]
  },
  {
   "cell_type": "code",
   "execution_count": 7,
   "id": "5c690703",
   "metadata": {},
   "outputs": [
    {
     "data": {
      "text/plain": [
       "L      Lion\n",
       "B      Bear\n",
       "E       Cow\n",
       "T    Donkey\n",
       "W       Dog\n",
       "dtype: object"
      ]
     },
     "execution_count": 7,
     "metadata": {},
     "output_type": "execute_result"
    }
   ],
   "source": [
    "animal[2:4]=\"Cow\",\"Donkey\"\n",
    "animal"
   ]
  },
  {
   "cell_type": "code",
   "execution_count": null,
   "id": "170b4d9a",
   "metadata": {},
   "outputs": [],
   "source": []
  }
 ],
 "metadata": {
  "kernelspec": {
   "display_name": "Python 3 (ipykernel)",
   "language": "python",
   "name": "python3"
  },
  "language_info": {
   "codemirror_mode": {
    "name": "ipython",
    "version": 3
   },
   "file_extension": ".py",
   "mimetype": "text/x-python",
   "name": "python",
   "nbconvert_exporter": "python",
   "pygments_lexer": "ipython3",
   "version": "3.10.5"
  }
 },
 "nbformat": 4,
 "nbformat_minor": 5
}
