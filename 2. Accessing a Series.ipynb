{
 "cells": [
  {
   "cell_type": "markdown",
   "id": "ae88409f",
   "metadata": {},
   "source": [
    "# Indexing\n",
    "\n",
    "Note:- Indexing can be of two types:-\n",
    "Positional :- Takes integer value starting from 0\n",
    "\n",
    "Labelled:- Takes any user definaed label as index"
   ]
  },
  {
   "cell_type": "code",
   "execution_count": 3,
   "id": "f4e1fb03",
   "metadata": {},
   "outputs": [
    {
     "data": {
      "text/plain": [
       "0     10\n",
       "1     20\n",
       "2     30\n",
       "3     40\n",
       "4     50\n",
       "5     60\n",
       "6     70\n",
       "7     80\n",
       "8     90\n",
       "9    100\n",
       "dtype: int64"
      ]
     },
     "execution_count": 3,
     "metadata": {},
     "output_type": "execute_result"
    }
   ],
   "source": [
    "import pandas as pd\n",
    "ser1=pd.Series([10,20,30,40,50,60,70,80,90,100])\n",
    "ser1"
   ]
  },
  {
   "cell_type": "code",
   "execution_count": 10,
   "id": "9d8eaf65",
   "metadata": {},
   "outputs": [],
   "source": [
    "animal=pd.Series([\"Lion\",\"Bear\",\"Elephant\",\"Tiger\",\"Wolf\"],index=[\"L\",\"B\",\"E\",\"T\",\"W\"])"
   ]
  },
  {
   "cell_type": "code",
   "execution_count": 4,
   "id": "27693983",
   "metadata": {},
   "outputs": [
    {
     "data": {
      "text/plain": [
       "30"
      ]
     },
     "execution_count": 4,
     "metadata": {},
     "output_type": "execute_result"
    }
   ],
   "source": [
    "ser1[2]"
   ]
  },
  {
   "cell_type": "code",
   "execution_count": 13,
   "id": "d308d8e5",
   "metadata": {},
   "outputs": [
    {
     "data": {
      "text/plain": [
       "'Bear'"
      ]
     },
     "execution_count": 13,
     "metadata": {},
     "output_type": "execute_result"
    }
   ],
   "source": [
    "animal.B\n",
    "# Note :- Only valid for labelled based indexing will not work at all with ser1"
   ]
  },
  {
   "cell_type": "code",
   "execution_count": 15,
   "id": "020bd7e6",
   "metadata": {},
   "outputs": [
    {
     "data": {
      "text/plain": [
       "'Tiger'"
      ]
     },
     "execution_count": 15,
     "metadata": {},
     "output_type": "execute_result"
    }
   ],
   "source": [
    "animal[3]\n",
    "# note that when labelled indexing is done, still the positinal indexing is valid"
   ]
  },
  {
   "cell_type": "code",
   "execution_count": 5,
   "id": "a4af3ac6",
   "metadata": {},
   "outputs": [
    {
     "data": {
      "text/plain": [
       "10"
      ]
     },
     "execution_count": 5,
     "metadata": {},
     "output_type": "execute_result"
    }
   ],
   "source": [
    "ser1[0]"
   ]
  },
  {
   "cell_type": "code",
   "execution_count": 6,
   "id": "58d2480e",
   "metadata": {},
   "outputs": [],
   "source": [
    "ser1=pd.Series([10,20,30,40,50,60,70,80,90,100],index=[1,2,3,4,5,6,7,8,9,10])"
   ]
  },
  {
   "cell_type": "code",
   "execution_count": 9,
   "id": "32af0b2c",
   "metadata": {},
   "outputs": [
    {
     "data": {
      "text/plain": [
       "10"
      ]
     },
     "execution_count": 9,
     "metadata": {},
     "output_type": "execute_result"
    }
   ],
   "source": [
    "# Now the ser[2] is not 30 anymore, now it is 20\n",
    "ser1[1]"
   ]
  },
  {
   "cell_type": "markdown",
   "id": "f7052fc2",
   "metadata": {},
   "source": [
    "# Slicing\n",
    "\n",
    "When we use positional indicces for slicing, the value at the endindex is excluded. But when we use labelled indexes so the value at the end index laabel is also included in the outputs."
   ]
  },
  {
   "cell_type": "code",
   "execution_count": 6,
   "id": "268c833d",
   "metadata": {},
   "outputs": [
    {
     "data": {
      "text/plain": [
       "1      10\n",
       "2      20\n",
       "3      30\n",
       "4      40\n",
       "5      50\n",
       "6      60\n",
       "7      70\n",
       "8      80\n",
       "9      90\n",
       "10    100\n",
       "dtype: int64"
      ]
     },
     "execution_count": 6,
     "metadata": {},
     "output_type": "execute_result"
    }
   ],
   "source": [
    "# Syntax is ser1[start:end:step/dirn]\n",
    "ser1[::] #Takes in default 0 as the value of start, last index as end and step as 1"
   ]
  },
  {
   "cell_type": "code",
   "execution_count": 16,
   "id": "cb147510",
   "metadata": {},
   "outputs": [],
   "source": [
    "# See in the following that first label based used and then positonal also.... different outputs"
   ]
  },
  {
   "cell_type": "code",
   "execution_count": 19,
   "id": "d3e925ce",
   "metadata": {},
   "outputs": [
    {
     "data": {
      "text/plain": [
       "L        Lion\n",
       "B        Bear\n",
       "E    Elephant\n",
       "T       Tiger\n",
       "W        Wolf\n",
       "dtype: object"
      ]
     },
     "execution_count": 19,
     "metadata": {},
     "output_type": "execute_result"
    }
   ],
   "source": [
    "animal[\"L\":\"W\"]"
   ]
  },
  {
   "cell_type": "code",
   "execution_count": 17,
   "id": "8af696ad",
   "metadata": {},
   "outputs": [
    {
     "data": {
      "text/plain": [
       "B        Bear\n",
       "E    Elephant\n",
       "T       Tiger\n",
       "dtype: object"
      ]
     },
     "execution_count": 17,
     "metadata": {},
     "output_type": "execute_result"
    }
   ],
   "source": [
    "animal[1:4]"
   ]
  },
  {
   "cell_type": "code",
   "execution_count": 20,
   "id": "9debfec6",
   "metadata": {},
   "outputs": [
    {
     "data": {
      "text/plain": [
       "Series([], dtype: object)"
      ]
     },
     "execution_count": 20,
     "metadata": {},
     "output_type": "execute_result"
    }
   ],
   "source": [
    "animal[-4:1]"
   ]
  },
  {
   "cell_type": "code",
   "execution_count": 21,
   "id": "a00f027c",
   "metadata": {},
   "outputs": [
    {
     "data": {
      "text/plain": [
       "L    Lion\n",
       "dtype: object"
      ]
     },
     "execution_count": 21,
     "metadata": {},
     "output_type": "execute_result"
    }
   ],
   "source": [
    "animal[0::-2]"
   ]
  }
 ],
 "metadata": {
  "kernelspec": {
   "display_name": "Python 3 (ipykernel)",
   "language": "python",
   "name": "python3"
  },
  "language_info": {
   "codemirror_mode": {
    "name": "ipython",
    "version": 3
   },
   "file_extension": ".py",
   "mimetype": "text/x-python",
   "name": "python",
   "nbconvert_exporter": "python",
   "pygments_lexer": "ipython3",
   "version": "3.10.5"
  }
 },
 "nbformat": 4,
 "nbformat_minor": 5
}
