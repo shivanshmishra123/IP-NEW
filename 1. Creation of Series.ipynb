{
 "cells": [
  {
   "cell_type": "markdown",
   "id": "2cbc3b59",
   "metadata": {},
   "source": [
    "# Introduction:-\n",
    "Data structure is a collection of data values and operation that can be applied to that data. Enables efficient storage , retrieval and modificaiton.\n",
    "\n",
    "1)Series is a one dimensional array containing a sequence of value of any data type.\n",
    "\n",
    "2)When no. of index labels of a series does not match the no. of element, so we get a ValueError"
   ]
  },
  {
   "cell_type": "markdown",
   "id": "af5e7c3e",
   "metadata": {},
   "source": [
    "# 1)From Scalar Values "
   ]
  },
  {
   "cell_type": "code",
   "execution_count": 2,
   "id": "1ad8068a",
   "metadata": {},
   "outputs": [
    {
     "data": {
      "text/plain": [
       "0    10\n",
       "1    20\n",
       "2    30\n",
       "dtype: int64"
      ]
     },
     "execution_count": 2,
     "metadata": {},
     "output_type": "execute_result"
    }
   ],
   "source": [
    "import pandas as pd\n",
    "ser1=pd.Series([10,20,30])\n",
    "ser1"
   ]
  },
  {
   "cell_type": "code",
   "execution_count": 6,
   "id": "ff089b98",
   "metadata": {},
   "outputs": [
    {
     "data": {
      "text/plain": [
       "0    Shivansh\n",
       "1         Dev\n",
       "2     Rishabh\n",
       "dtype: object"
      ]
     },
     "execution_count": 6,
     "metadata": {},
     "output_type": "execute_result"
    }
   ],
   "source": [
    "ser2=pd.Series([\"Shivansh\",\"Dev\",\"Rishabh\"])\n",
    "ser2"
   ]
  },
  {
   "cell_type": "markdown",
   "id": "261634dc",
   "metadata": {},
   "source": [
    "# 2)From Numpy Array"
   ]
  },
  {
   "cell_type": "code",
   "execution_count": 6,
   "id": "acf71eb3",
   "metadata": {},
   "outputs": [
    {
     "data": {
      "text/plain": [
       "0    Shivansh\n",
       "1          10\n",
       "2         Dev\n",
       "3          20\n",
       "4     Rishabh\n",
       "5          30\n",
       "dtype: object"
      ]
     },
     "execution_count": 6,
     "metadata": {},
     "output_type": "execute_result"
    }
   ],
   "source": [
    "import numpy as np\n",
    "arr1=np.array([\"Shivansh\",10,\"Dev\",20,\"Rishabh\",30])\n",
    "ser3=pd.Series(arr1)\n",
    "ser3"
   ]
  },
  {
   "cell_type": "markdown",
   "id": "4e822ca6",
   "metadata": {},
   "source": [
    "# 3) From a Dictionary\n",
    "\n",
    "to remember that Key will go as a index value and value will be going as the correspoding entry"
   ]
  },
  {
   "cell_type": "code",
   "execution_count": 9,
   "id": "b56d7eb9",
   "metadata": {},
   "outputs": [
    {
     "data": {
      "text/plain": [
       "Shivansh    10\n",
       "Dev         20\n",
       "Rishabh     30\n",
       "dtype: int64"
      ]
     },
     "execution_count": 9,
     "metadata": {},
     "output_type": "execute_result"
    }
   ],
   "source": [
    "dict1={\"Shivansh\":10,\"Dev\":20,\"Rishabh\":30}\n",
    "ser4=pd.Series(dict1)\n",
    "ser4"
   ]
  },
  {
   "cell_type": "code",
   "execution_count": null,
   "id": "a6fee2ee",
   "metadata": {},
   "outputs": [],
   "source": []
  },
  {
   "cell_type": "code",
   "execution_count": null,
   "id": "60746e19",
   "metadata": {},
   "outputs": [],
   "source": []
  },
  {
   "cell_type": "code",
   "execution_count": null,
   "id": "32936a1e",
   "metadata": {},
   "outputs": [],
   "source": []
  }
 ],
 "metadata": {
  "kernelspec": {
   "display_name": "Python 3 (ipykernel)",
   "language": "python",
   "name": "python3"
  },
  "language_info": {
   "codemirror_mode": {
    "name": "ipython",
    "version": 3
   },
   "file_extension": ".py",
   "mimetype": "text/x-python",
   "name": "python",
   "nbconvert_exporter": "python",
   "pygments_lexer": "ipython3",
   "version": "3.10.5"
  }
 },
 "nbformat": 4,
 "nbformat_minor": 5
}
