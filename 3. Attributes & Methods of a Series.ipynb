{
 "cells": [
  {
   "cell_type": "code",
   "execution_count": 23,
   "id": "d9a23bac",
   "metadata": {},
   "outputs": [
    {
     "data": {
      "text/plain": [
       "0     10\n",
       "1     20\n",
       "2     30\n",
       "3     40\n",
       "4     50\n",
       "5     60\n",
       "6     70\n",
       "7     80\n",
       "8     90\n",
       "9    100\n",
       "dtype: int64"
      ]
     },
     "execution_count": 23,
     "metadata": {},
     "output_type": "execute_result"
    }
   ],
   "source": [
    "import pandas as pd\n",
    "ser1=pd.Series([10,20,30,40,50,60,70,80,90,100])\n",
    "ser1"
   ]
  },
  {
   "cell_type": "markdown",
   "id": "03ab3be8",
   "metadata": {},
   "source": [
    "# 1) Name :- To give a name to the series"
   ]
  },
  {
   "cell_type": "code",
   "execution_count": 24,
   "id": "2b06c1fa",
   "metadata": {},
   "outputs": [
    {
     "data": {
      "text/plain": [
       "0     10\n",
       "1     20\n",
       "2     30\n",
       "3     40\n",
       "4     50\n",
       "5     60\n",
       "6     70\n",
       "7     80\n",
       "8     90\n",
       "9    100\n",
       "Name: Table of 10, dtype: int64"
      ]
     },
     "execution_count": 24,
     "metadata": {},
     "output_type": "execute_result"
    }
   ],
   "source": [
    "ser1.name = \"Table of 10\"\n",
    "ser1"
   ]
  },
  {
   "cell_type": "markdown",
   "id": "15a93713",
   "metadata": {},
   "source": [
    "# 2) index name:- to give a name to the index of the series"
   ]
  },
  {
   "cell_type": "code",
   "execution_count": 25,
   "id": "61df2814",
   "metadata": {},
   "outputs": [
    {
     "data": {
      "text/plain": [
       "S.No\n",
       "0     10\n",
       "1     20\n",
       "2     30\n",
       "3     40\n",
       "4     50\n",
       "5     60\n",
       "6     70\n",
       "7     80\n",
       "8     90\n",
       "9    100\n",
       "Name: Table of 10, dtype: int64"
      ]
     },
     "execution_count": 25,
     "metadata": {},
     "output_type": "execute_result"
    }
   ],
   "source": [
    "ser1.index.name=\"S.No\"\n",
    "ser1"
   ]
  },
  {
   "cell_type": "markdown",
   "id": "74852fcf",
   "metadata": {},
   "source": [
    "# 3)Values- To return all the elements of a series\n",
    "\n",
    "PTR:- Array form mei result aayega"
   ]
  },
  {
   "cell_type": "code",
   "execution_count": 26,
   "id": "5ea9538b",
   "metadata": {},
   "outputs": [
    {
     "data": {
      "text/plain": [
       "array([ 10,  20,  30,  40,  50,  60,  70,  80,  90, 100], dtype=int64)"
      ]
     },
     "execution_count": 26,
     "metadata": {},
     "output_type": "execute_result"
    }
   ],
   "source": [
    "ser1.values"
   ]
  },
  {
   "cell_type": "markdown",
   "id": "8b74c05d",
   "metadata": {},
   "source": [
    "# 4) Size- returns the number of values of a series"
   ]
  },
  {
   "cell_type": "code",
   "execution_count": 27,
   "id": "94abe1ee",
   "metadata": {},
   "outputs": [
    {
     "data": {
      "text/plain": [
       "10"
      ]
     },
     "execution_count": 27,
     "metadata": {},
     "output_type": "execute_result"
    }
   ],
   "source": [
    "ser1.size"
   ]
  },
  {
   "cell_type": "markdown",
   "id": "d729d7eb",
   "metadata": {},
   "source": [
    "# 5) Empty:- Returns True/false result"
   ]
  },
  {
   "cell_type": "code",
   "execution_count": 28,
   "id": "627a03c2",
   "metadata": {},
   "outputs": [
    {
     "data": {
      "text/plain": [
       "False"
      ]
     },
     "execution_count": 28,
     "metadata": {},
     "output_type": "execute_result"
    }
   ],
   "source": [
    "ser1.empty"
   ]
  },
  {
   "cell_type": "code",
   "execution_count": 29,
   "id": "c57ba9ef",
   "metadata": {},
   "outputs": [
    {
     "data": {
      "text/plain": [
       "True"
      ]
     },
     "execution_count": 29,
     "metadata": {},
     "output_type": "execute_result"
    }
   ],
   "source": [
    "ser2=pd.Series([])\n",
    "ser2.empty"
   ]
  },
  {
   "cell_type": "markdown",
   "id": "565f4bc8",
   "metadata": {},
   "source": [
    "# METHODS OF A SERIES"
   ]
  },
  {
   "cell_type": "markdown",
   "id": "610eecaa",
   "metadata": {},
   "source": [
    "# 1) Head(n):- Returns the first n values of a series, by default it returns 5 values"
   ]
  },
  {
   "cell_type": "code",
   "execution_count": 30,
   "id": "8114bafb",
   "metadata": {},
   "outputs": [
    {
     "data": {
      "text/plain": [
       "S.No\n",
       "0    10\n",
       "1    20\n",
       "2    30\n",
       "Name: Table of 10, dtype: int64"
      ]
     },
     "execution_count": 30,
     "metadata": {},
     "output_type": "execute_result"
    }
   ],
   "source": [
    "ser1.head(3)"
   ]
  },
  {
   "cell_type": "markdown",
   "id": "5b2ae7c6",
   "metadata": {},
   "source": [
    "# 2) Tail(n):- Returns the last n values of a series, but remember that order won't be reversed"
   ]
  },
  {
   "cell_type": "code",
   "execution_count": 31,
   "id": "662e8291",
   "metadata": {},
   "outputs": [
    {
     "data": {
      "text/plain": [
       "S.No\n",
       "7     80\n",
       "8     90\n",
       "9    100\n",
       "Name: Table of 10, dtype: int64"
      ]
     },
     "execution_count": 31,
     "metadata": {},
     "output_type": "execute_result"
    }
   ],
   "source": [
    "ser1.tail(3)"
   ]
  },
  {
   "cell_type": "markdown",
   "id": "29ec4257",
   "metadata": {},
   "source": [
    "# 3)count():- return all the non Naan values of the series, whereas size() doesnt care about Non Naan"
   ]
  },
  {
   "cell_type": "code",
   "execution_count": 32,
   "id": "6b2dbed5",
   "metadata": {},
   "outputs": [
    {
     "data": {
      "text/plain": [
       "10"
      ]
     },
     "execution_count": 32,
     "metadata": {},
     "output_type": "execute_result"
    }
   ],
   "source": [
    "ser1.count()"
   ]
  },
  {
   "cell_type": "code",
   "execution_count": null,
   "id": "91306954",
   "metadata": {},
   "outputs": [],
   "source": []
  }
 ],
 "metadata": {
  "kernelspec": {
   "display_name": "Python 3 (ipykernel)",
   "language": "python",
   "name": "python3"
  },
  "language_info": {
   "codemirror_mode": {
    "name": "ipython",
    "version": 3
   },
   "file_extension": ".py",
   "mimetype": "text/x-python",
   "name": "python",
   "nbconvert_exporter": "python",
   "pygments_lexer": "ipython3",
   "version": "3.10.5"
  }
 },
 "nbformat": 4,
 "nbformat_minor": 5
}
