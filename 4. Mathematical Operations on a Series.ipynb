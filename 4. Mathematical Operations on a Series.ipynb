{
 "cells": [
  {
   "cell_type": "markdown",
   "id": "c6b057e0",
   "metadata": {},
   "source": [
    "# Points to Remember\n",
    "1) All the Missing values are by default filled with Nan value\n",
    "\n",
    "\n",
    "2) Index Matching method is implemented, ex:- index \"A\" from first go from index \"A\" of second series and if \"A\" not in second so A from first + NaN = Nan"
   ]
  },
  {
   "cell_type": "markdown",
   "id": "0c1169d6",
   "metadata": {},
   "source": [
    "# 1) Addition of two series\n",
    "No. of elements in both should be same"
   ]
  },
  {
   "cell_type": "code",
   "execution_count": 24,
   "id": "6396a031",
   "metadata": {},
   "outputs": [],
   "source": [
    "import pandas as pd\n",
    "ser1=pd.Series([10,20,30,40,50,60],index=[\"A\",\"B\",\"C\",\"D\",\"E\",\"X\"])\n",
    "ser2=pd.Series([60,70,80,90,100],index=[\"X\",\"E\",\"Z\",\"A\",\"B\"])"
   ]
  },
  {
   "cell_type": "code",
   "execution_count": 25,
   "id": "67c2f461",
   "metadata": {},
   "outputs": [
    {
     "data": {
      "text/plain": [
       "A    100.0\n",
       "B    120.0\n",
       "C      NaN\n",
       "D      NaN\n",
       "E    120.0\n",
       "X    120.0\n",
       "Z      NaN\n",
       "dtype: float64"
      ]
     },
     "execution_count": 25,
     "metadata": {},
     "output_type": "execute_result"
    }
   ],
   "source": [
    "ser1+ser2"
   ]
  },
  {
   "cell_type": "code",
   "execution_count": 27,
   "id": "55ca4751",
   "metadata": {},
   "outputs": [
    {
     "data": {
      "text/plain": [
       "A    100.0\n",
       "B    120.0\n",
       "C     30.0\n",
       "D     40.0\n",
       "E    120.0\n",
       "X    120.0\n",
       "Z     80.0\n",
       "dtype: float64"
      ]
     },
     "execution_count": 27,
     "metadata": {},
     "output_type": "execute_result"
    }
   ],
   "source": [
    "ser1.add(ser2,fill_value=0)"
   ]
  },
  {
   "cell_type": "markdown",
   "id": "115b85e5",
   "metadata": {},
   "source": [
    "# 2) Subtraction of two series"
   ]
  },
  {
   "cell_type": "code",
   "execution_count": 10,
   "id": "95833705",
   "metadata": {},
   "outputs": [
    {
     "data": {
      "text/plain": [
       "A   -80.0\n",
       "B   -80.0\n",
       "C     NaN\n",
       "D     NaN\n",
       "E   -20.0\n",
       "X     0.0\n",
       "Z     NaN\n",
       "dtype: float64"
      ]
     },
     "execution_count": 10,
     "metadata": {},
     "output_type": "execute_result"
    }
   ],
   "source": [
    "ser1-ser2"
   ]
  },
  {
   "cell_type": "code",
   "execution_count": 28,
   "id": "b5d6ecf3",
   "metadata": {},
   "outputs": [
    {
     "data": {
      "text/plain": [
       "A   -80.0\n",
       "B   -80.0\n",
       "C    30.0\n",
       "D    40.0\n",
       "E   -20.0\n",
       "X     0.0\n",
       "Z   -80.0\n",
       "dtype: float64"
      ]
     },
     "execution_count": 28,
     "metadata": {},
     "output_type": "execute_result"
    }
   ],
   "source": [
    "ser1.sub(ser2,fill_value=0)"
   ]
  },
  {
   "cell_type": "markdown",
   "id": "0ebc04fb",
   "metadata": {},
   "source": [
    "# 3)Multiplication of two series"
   ]
  },
  {
   "cell_type": "code",
   "execution_count": 13,
   "id": "f241c99e",
   "metadata": {},
   "outputs": [
    {
     "data": {
      "text/plain": [
       "A     900.0\n",
       "B    2000.0\n",
       "C       NaN\n",
       "D       NaN\n",
       "E    3500.0\n",
       "X    3600.0\n",
       "Z       NaN\n",
       "dtype: float64"
      ]
     },
     "execution_count": 13,
     "metadata": {},
     "output_type": "execute_result"
    }
   ],
   "source": [
    "ser1*ser2"
   ]
  },
  {
   "cell_type": "code",
   "execution_count": 15,
   "id": "4a36de2a",
   "metadata": {},
   "outputs": [
    {
     "data": {
      "text/plain": [
       "A     900.0\n",
       "B    2000.0\n",
       "C       0.0\n",
       "D       0.0\n",
       "E    3500.0\n",
       "X    3600.0\n",
       "Z       0.0\n",
       "dtype: float64"
      ]
     },
     "execution_count": 15,
     "metadata": {},
     "output_type": "execute_result"
    }
   ],
   "source": [
    "ser1.mul(ser2,fill_value=0)"
   ]
  },
  {
   "cell_type": "markdown",
   "id": "69dd4194",
   "metadata": {},
   "source": [
    "# 4)Division of two series"
   ]
  },
  {
   "cell_type": "code",
   "execution_count": 16,
   "id": "b0db2b83",
   "metadata": {},
   "outputs": [
    {
     "data": {
      "text/plain": [
       "A    0.111111\n",
       "B    0.200000\n",
       "C         NaN\n",
       "D         NaN\n",
       "E    0.714286\n",
       "X    1.000000\n",
       "Z         NaN\n",
       "dtype: float64"
      ]
     },
     "execution_count": 16,
     "metadata": {},
     "output_type": "execute_result"
    }
   ],
   "source": [
    "ser1/ser2"
   ]
  },
  {
   "cell_type": "code",
   "execution_count": 17,
   "id": "bfeaaa75",
   "metadata": {},
   "outputs": [
    {
     "data": {
      "text/plain": [
       "A    0.111111\n",
       "B    0.200000\n",
       "C         inf\n",
       "D         inf\n",
       "E    0.714286\n",
       "X    1.000000\n",
       "Z    0.000000\n",
       "dtype: float64"
      ]
     },
     "execution_count": 17,
     "metadata": {},
     "output_type": "execute_result"
    }
   ],
   "source": [
    "ser1.div(ser2,fill_value=0)"
   ]
  },
  {
   "cell_type": "code",
   "execution_count": null,
   "id": "3e428e0a",
   "metadata": {},
   "outputs": [],
   "source": []
  }
 ],
 "metadata": {
  "kernelspec": {
   "display_name": "Python 3 (ipykernel)",
   "language": "python",
   "name": "python3"
  },
  "language_info": {
   "codemirror_mode": {
    "name": "ipython",
    "version": 3
   },
   "file_extension": ".py",
   "mimetype": "text/x-python",
   "name": "python",
   "nbconvert_exporter": "python",
   "pygments_lexer": "ipython3",
   "version": "3.10.5"
  }
 },
 "nbformat": 4,
 "nbformat_minor": 5
}
